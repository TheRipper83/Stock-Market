{
 "cells": [
  {
   "cell_type": "code",
   "execution_count": 2,
   "metadata": {},
   "outputs": [],
   "source": [
    "import pandas as pds\n",
    "import matplotlib.pyplot as plt\n",
    "import seaborn as sns"
   ]
  },
  {
   "cell_type": "code",
   "execution_count": null,
   "metadata": {},
   "outputs": [],
   "source": [
    "#reding data\n",
    "data=pds.read_csv(\"stock_market_data.csv\")\n",
    "pds.unique(data['Symbol'])\n",
    "database=pds.read_csv(\"userData.csv\")"
   ]
  },
  {
   "cell_type": "code",
   "execution_count": null,
   "metadata": {},
   "outputs": [],
   "source": [
    "#creating user class\n",
    "class User:\n",
    "    #user's data\n",
    "    def __init__(self,name,code,bd,balance,assets):\n",
    "        self.name=name\n",
    "        self.code=code\n",
    "        self.bd=bd\n",
    "        self.balance=balance\n",
    "        self.assets=assets\n",
    "    def buy(self,typee,date,volume):\n",
    "        #finding the open price\n",
    "        index=data[data['Date']==date][data[\"Symbol\"]==typee].index.values[0]\n",
    "        if volume>data._get_value(index,\"Volume\"):\n",
    "            print(\"Not enough voluem\")\n",
    "        elif volume*data._get_value(index,\"Open\")>self.balance:\n",
    "            print(\"Not enough credit\")\n",
    "        else:\n",
    "            #buying the desired volume\n",
    "            self.balance-=volume*data._get_value(index,\"Open\")\n",
    "            data.loc[index,\"Volume\"]=data._get_value(index,\"Volume\")-volume\n",
    "            self.assets[typee]+=volume\n",
    "    def sell(self,typee,date,volume):\n",
    "        #checking if its available\n",
    "        if self.assets[typee]<=volume:\n",
    "            #selling the desired value\n",
    "            index=data[data['Date']==date][data[\"Symbol\"]==typee].index.values[0]\n",
    "            self.balance+=volume*data._get_value(index,\"Open\")\n",
    "            data.loc[index,\"Volume\"]=data._get_value(index,\"Volume\")+volume\n",
    "            self.assets[typee]-=volume\n",
    "        else:\n",
    "            print(\"Not enough volume\")\n",
    "    def asset(self,date):\n",
    "        print(self.assets)\n",
    "        index1=data[data['Date']==date][data[\"Symbol\"]==\"AMZN\"].index.values[0]\n",
    "        index2=data[data['Date']==date][data[\"Symbol\"]==\"FB\"].index.values[0]\n",
    "        index3=data[data['Date']==date][data[\"Symbol\"]==\"TSLA\"].index.values[0]\n",
    "        index4=data[data['Date']==date][data[\"Symbol\"]==\"GOOGL\"].index.values[0]\n",
    "        index5=data[data['Date']==date][data[\"Symbol\"]==\"AAPL\"].index.values[0]\n",
    "        totall=data._get_value(index1,\"Open\")*self.assets[\"AMZN\"]+data._get_value(index2,\"Open\")*self.assets[\"FB\"]+data._get_value(index3,\"Open\")*self.assets[\"TSLA\"]+data._get_value(index4,\"Open\")*self.assets[\"GOOGL\"]+data._get_value(index5,\"Open\")*self.assets[\"AAPL\"]\n",
    "        print(f\"Your total credit is {totall}\")\n",
    "    \n"
   ]
  },
  {
   "cell_type": "code",
   "execution_count": null,
   "metadata": {},
   "outputs": [],
   "source": [
    "def change(open1,open2):\n",
    "    darsad=round(((open2/open1)-1)*100,2)\n",
    "    return darsad\n",
    "\n"
   ]
  },
  {
   "cell_type": "code",
   "execution_count": null,
   "metadata": {},
   "outputs": [],
   "source": [
    "def availaible(date):\n",
    "    listInd=data[data[\"Date\"]==date].index\n",
    "    result={\"AMZN\":0,\"FB\":0,\"TSLA\":0,\"GOOGL\":0,\"AAPL\":0}\n",
    "    result[\"AMZN\"]=change(data._get_value(listInd[0]-1,\"Open\"),data._get_value(listInd[0],\"Open\"))\n",
    "    result[\"FB\"]=change(data._get_value(listInd[1]-1,\"Open\"),data._get_value(listInd[1],\"Open\"))\n",
    "    result[\"TSLA\"]=change(data._get_value(listInd[2]-1,\"Open\"),data._get_value(listInd[2],\"Open\"))\n",
    "    result[\"GOOGL\"]=change(data._get_value(listInd[3]-1,\"Open\"),data._get_value(listInd[3],\"Open\"))\n",
    "    result[\"AAPL\"]=change(data._get_value(listInd[4]-1,\"Open\"),data._get_value(listInd[4],\"Open\"))\n",
    "    result=dict(sorted(result.items(), key=lambda x:x[1],reverse=True))\n",
    "    print(result)"
   ]
  },
  {
   "cell_type": "code",
   "execution_count": null,
   "metadata": {},
   "outputs": [],
   "source": [
    "def chart(boors):\n",
    "    column_name = 'Open'\n",
    "    column_data = data[data[\"Symbol\"]==boors][column_name]\n",
    "\n",
    "    # Plot the chart\n",
    "    plt.plot(column_data)\n",
    "    plt.xlabel('Index')\n",
    "    plt.ylabel(column_name)\n",
    "    plt.title('Changes in {}'.format(column_name))\n",
    "    plt.show()"
   ]
  },
  {
   "cell_type": "code",
   "execution_count": null,
   "metadata": {},
   "outputs": [],
   "source": [
    "#regression chart\n",
    "def reg(stock):\n",
    "    \n",
    "    # draw regplot\n",
    "    sns.regplot(x =data[data[\"Symbol\"]==stock].index ,\n",
    "                y = data[data[\"Symbol\"]==stock][\"Open\"],data=data)\n",
    "    \n",
    "    \n",
    "    # show the plot\n",
    "    plt.show()"
   ]
  },
  {
   "cell_type": "code",
   "execution_count": null,
   "metadata": {},
   "outputs": [],
   "source": [
    "#creating menue\n",
    "def menue(u,indexx):\n",
    "    while 1:\n",
    "        print(\"What do u want to do?\")\n",
    "        print(\"1.Buy\")\n",
    "        print(\"2.Sell\")\n",
    "        print(\"3.Available\")\n",
    "        print(\"4.Total assets\")\n",
    "        print(\"5.Chart\")\n",
    "        print(\"6.Changes\")\n",
    "        print(\"7.Exit\")\n",
    "        answ=int(input())\n",
    "        if answ==1:\n",
    "            typeb=input(\"Which type do you want to buy?\")\n",
    "            date=input(\"what is the date?\")\n",
    "            valume=int(input(\"what is the volume\"))\n",
    "            u.buy(typeb,date,valume)\n",
    "        elif answ==2:\n",
    "            typeb=input(\"Which type do you want to buy?\")\n",
    "            date=input(\"what is the date?\")\n",
    "            valume=int(input(\"what is the volume\"))\n",
    "            u.sell(typeb,date,valume)\n",
    "        elif answ==3:\n",
    "            date=input(\"Enter the date: \")\n",
    "            availaible(date)\n",
    "        elif answ==4:\n",
    "            date=input(\"what is the date?\")\n",
    "            u.asset(date)\n",
    "        elif answ==5:\n",
    "            boors=input(\"Which stock? \")\n",
    "            chart(boors)\n",
    "        elif answ==6:\n",
    "            reg(\"AMZN\")\n",
    "            reg(\"FB\")\n",
    "            reg(\"TSLA\")\n",
    "            reg(\"GOOGL\")\n",
    "            reg(\"AAPL\")\n",
    "        else:\n",
    "            llist=[]\n",
    "            llist.append(u.name)\n",
    "            llist.append(u.code)\n",
    "            llist.append(u.bd)\n",
    "            llist.append(u.balance)\n",
    "            llist.append(u.assets)\n",
    "            database.loc[indexx]=llist\n",
    "            database.to_csv('userData.csv', index=False)\n",
    "            break"
   ]
  },
  {
   "cell_type": "code",
   "execution_count": null,
   "metadata": {},
   "outputs": [],
   "source": [
    "print(\"1.New user\")\n",
    "print(\"2.Login\")\n",
    "ans=int(input())\n",
    "if ans==1:\n",
    "    print(\"Please enter your name, id, birth date and balance : \")\n",
    "    listt=input().split()\n",
    "    #creating a dictionary for user's assests\n",
    "    dicAssests={\"AMZN\":0,\"FB\":0,\"TSLA\":0,\"GOOGL\":0,\"AAPL\":0}\n",
    "    listt.append(dicAssests)\n",
    "    database.loc[len(database)]=listt\n",
    "    database.to_csv('userData.csv', index=False)\n",
    "    #creating user class fo doing functions\n",
    "    u=User(listt[0],listt[1],listt[2],int(listt[3]),listt[4])\n",
    "    menue(u,len(database)-1)\n",
    "else:\n",
    "    namee=input(\"please enter your name: \")\n",
    "    idd=input(\"please enter your id: \")\n",
    "    index=database[database['name']==namee][database[\"Id\"]==idd].index.values[0]\n",
    "    print(database[database[\"name\"]==namee][database[\"Id\"]==idd])\n",
    "    u=User(database._get_value(index,\"name\"),database._get_value(index,\"Id\"),database._get_value(index,\"BD\"),int(database._get_value(index,\"balance\")),database._get_value(index,\"Assests\"))\n",
    "    menue(u,index)    \n",
    "    \n",
    "    "
   ]
  },
  {
   "cell_type": "code",
   "execution_count": 3,
   "metadata": {},
   "outputs": [],
   "source": [
    "# creating users database for first time then commenting it out also usabale for resetting database\n",
    "columee=[\"name\",\"Id\",\"BD\",\"balance\",\"Assests\"]\n",
    "liist=[]\n",
    "database=pds.DataFrame(liist,columns=columee)\n",
    "database.to_csv('userData.csv', index=False)\n"
   ]
  },
  {
   "cell_type": "code",
   "execution_count": null,
   "metadata": {},
   "outputs": [],
   "source": []
  },
  {
   "cell_type": "code",
   "execution_count": null,
   "metadata": {},
   "outputs": [],
   "source": []
  },
  {
   "cell_type": "code",
   "execution_count": null,
   "metadata": {},
   "outputs": [],
   "source": []
  }
 ],
 "metadata": {
  "kernelspec": {
   "display_name": "Python 3",
   "language": "python",
   "name": "python3"
  },
  "language_info": {
   "codemirror_mode": {
    "name": "ipython",
    "version": 3
   },
   "file_extension": ".py",
   "mimetype": "text/x-python",
   "name": "python",
   "nbconvert_exporter": "python",
   "pygments_lexer": "ipython3",
   "version": "3.11.3"
  },
  "orig_nbformat": 4
 },
 "nbformat": 4,
 "nbformat_minor": 2
}
